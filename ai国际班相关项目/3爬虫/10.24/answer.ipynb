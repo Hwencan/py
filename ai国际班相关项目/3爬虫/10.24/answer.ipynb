{
  "cells": [
    {
      "cell_type": "code",
      "execution_count": 1,
      "outputs": [
        {
          "traceback": [
            "\u001b[1;31m---------------------------------------------------------------------------\u001b[0m",
            "\u001b[1;31mModuleNotFoundError\u001b[0m                       Traceback (most recent call last)",
            "\u001b[1;32m\u003cipython-input-1-3aa9ec6c6445\u003e\u001b[0m in \u001b[0;36m\u003cmodule\u003e\u001b[1;34m\u001b[0m\n\u001b[1;32m----\u003e 1\u001b[1;33m \u001b[1;32mimport\u001b[0m \u001b[0mrequests\u001b[0m \u001b[1;32mas\u001b[0m \u001b[0mr\u001b[0m\u001b[1;33m\u001b[0m\u001b[0m\n\u001b[0m\u001b[0;32m      2\u001b[0m \u001b[0mad\u001b[0m\u001b[1;33m\u003d\u001b[0m\u001b[0mr\u001b[0m\u001b[1;33m.\u001b[0m\u001b[0mget\u001b[0m\u001b[1;33m(\u001b[0m\u001b[1;34m\u0027http://www.tianqihoubao.com/lishi/guilin/month/201910.html\u0027\u001b[0m\u001b[1;33m)\u001b[0m\u001b[1;33m\u001b[0m\u001b[0m\n\u001b[0;32m      3\u001b[0m \u001b[1;32mfrom\u001b[0m \u001b[0mbs4\u001b[0m \u001b[1;32mimport\u001b[0m \u001b[0mBeautifulSoup\u001b[0m\u001b[1;33m\u001b[0m\u001b[0m\n\u001b[0;32m      4\u001b[0m \u001b[0msoup\u001b[0m \u001b[1;33m\u003d\u001b[0m \u001b[0mBeautifulSoup\u001b[0m\u001b[1;33m(\u001b[0m\u001b[0mad\u001b[0m\u001b[1;33m.\u001b[0m\u001b[0mtext\u001b[0m\u001b[1;33m,\u001b[0m \u001b[1;34m\u0027html.parser\u0027\u001b[0m\u001b[1;33m,\u001b[0m \u001b[0mfrom_encoding\u001b[0m\u001b[1;33m\u003d\u001b[0m\u001b[1;34m\u0027utf-8\u0027\u001b[0m\u001b[1;33m)\u001b[0m\u001b[1;33m\u001b[0m\u001b[0m\n\u001b[0;32m      5\u001b[0m \u001b[0mlili\u001b[0m\u001b[1;33m\u003d\u001b[0m\u001b[0msoup\u001b[0m\u001b[1;33m.\u001b[0m\u001b[0mfind_all\u001b[0m\u001b[1;33m(\u001b[0m\u001b[1;34m\u0027div\u0027\u001b[0m\u001b[1;33m,\u001b[0m\u001b[0mclass_\u001b[0m\u001b[1;33m\u003d\u001b[0m\u001b[1;34m\"months\"\u001b[0m\u001b[1;33m)\u001b[0m\u001b[1;33m\u001b[0m\u001b[0m\n",
            "\u001b[1;31mModuleNotFoundError\u001b[0m: No module named \u0027requests\u0027"
          ],
          "ename": "ModuleNotFoundError",
          "evalue": "No module named \u0027requests\u0027",
          "output_type": "error"
        }
      ],
      "source": [
        "import requests as r\n",
        "ad\u003dr.get(\u0027http://www.tianqihoubao.com/lishi/guilin/month/201910.html\u0027)\n",
        "from bs4 import BeautifulSoup\n",
        "soup \u003d BeautifulSoup(ad.text, \u0027html.parser\u0027, from_encoding\u003d\u0027utf-8\u0027)\n",
        "lili\u003dsoup.find_all(\u0027div\u0027,class_\u003d\"months\")\n",
        "print(\u0027w\u0027)"
      ],
      "metadata": {
        "collapsed": false,
        "pycharm": {
          "name": "#%%\n",
          "is_executing": false
        }
      }
    },
    {
      "cell_type": "code",
      "execution_count": 13,
      "outputs": [
        {
          "name": "stdout",
          "text": [
            "[\u0027/lishi/guilin/month/201910.html\u0027, \u0027/lishi/guilin/month/201909.html\u0027, \u0027/lishi/guilin/month/201908.html\u0027, \u0027/lishi/guilin/month/201907.html\u0027, \u0027/lishi/guilin/month/201906.html\u0027, \u0027/lishi/guilin/month/201905.html\u0027, \u0027/lishi/guilin/month/201904.html\u0027, \u0027/lishi/guilin/month/201903.html\u0027, \u0027/lishi/guilin/month/201902.html\u0027, \u0027/lishi/guilin/month/201901.html\u0027, \u0027/lishi/guilin/month/201812.html\u0027, \u0027/lishi/guilin/month/201811.html\u0027, \u0027/lishi/guilin/month/201810.html\u0027, \u0027/lishi/guilin/month/201809.html\u0027, \u0027/lishi/guilin/month/201808.html\u0027, \u0027/lishi/guilin/month/201807.html\u0027, \u0027/lishi/guilin/month/201806.html\u0027, \u0027/lishi/guilin/month/201805.html\u0027, \u0027/lishi/guilin/month/201804.html\u0027, \u0027/lishi/guilin/month/201803.html\u0027, \u0027/lishi/guilin/month/201802.html\u0027, \u0027/lishi/guilin/month/201801.html\u0027, \u0027/lishi/guilin/month/201712.html\u0027, \u0027/lishi/guilin/month/201711.html\u0027, \u0027/lishi/guilin/month/201710.html\u0027, \u0027/lishi/guilin/month/201709.html\u0027, \u0027/lishi/guilin/month/201708.html\u0027, \u0027/lishi/guilin/month/201707.html\u0027, \u0027/lishi/guilin/month/201706.html\u0027, \u0027/lishi/guilin/month/201705.html\u0027, \u0027/lishi/guilin/month/201704.html\u0027, \u0027/lishi/guilin/month/201703.html\u0027, \u0027/lishi/guilin/month/201702.html\u0027, \u0027/lishi/guilin/month/201701.html\u0027, \u0027/lishi/guilin/month/201612.html\u0027, \u0027/lishi/guilin/month/201611.html\u0027, \u0027/lishi/guilin/month/201610.html\u0027, \u0027/lishi/guilin/month/201609.html\u0027, \u0027/lishi/guilin/month/201608.html\u0027, \u0027/lishi/guilin/month/201607.html\u0027, \u0027/lishi/guilin/month/201606.html\u0027, \u0027/lishi/guilin/month/201605.html\u0027, \u0027/lishi/guilin/month/201604.html\u0027, \u0027/lishi/guilin/month/201603.html\u0027, \u0027/lishi/guilin/month/201602.html\u0027, \u0027/lishi/guilin/month/201601.html\u0027, \u0027/lishi/guilin/month/201512.html\u0027, \u0027/lishi/guilin/month/201511.html\u0027, \u0027/lishi/guilin/month/201510.html\u0027, \u0027/lishi/guilin/month/201509.html\u0027, \u0027/lishi/guilin/month/201508.html\u0027, \u0027/lishi/guilin/month/201507.html\u0027, \u0027/lishi/guilin/month/201506.html\u0027, \u0027/lishi/guilin/month/201505.html\u0027, \u0027/lishi/guilin/month/201504.html\u0027, \u0027/lishi/guilin/month/201503.html\u0027, \u0027/lishi/guilin/month/201502.html\u0027, \u0027/lishi/guilin/month/201501.html\u0027, \u0027/lishi/guilin/month/201412.html\u0027, \u0027/lishi/guilin/month/201411.html\u0027, \u0027/lishi/guilin/month/201410.html\u0027, \u0027/lishi/guilin/month/201409.html\u0027, \u0027/lishi/guilin/month/201408.html\u0027, \u0027/lishi/guilin/month/201407.html\u0027, \u0027/lishi/guilin/month/201406.html\u0027, \u0027/lishi/guilin/month/201405.html\u0027, \u0027/lishi/guilin/month/201404.html\u0027, \u0027/lishi/guilin/month/201403.html\u0027, \u0027/lishi/guilin/month/201402.html\u0027, \u0027/lishi/guilin/month/201401.html\u0027, \u0027/lishi/guilin/month/201312.html\u0027, \u0027/lishi/guilin/month/201311.html\u0027, \u0027/lishi/guilin/month/201310.html\u0027, \u0027/lishi/guilin/month/201309.html\u0027, \u0027/lishi/guilin/month/201308.html\u0027, \u0027/lishi/guilin/month/201307.html\u0027, \u0027/lishi/guilin/month/201306.html\u0027, \u0027/lishi/guilin/month/201305.html\u0027, \u0027/lishi/guilin/month/201304.html\u0027, \u0027/lishi/guilin/month/201303.html\u0027, \u0027/lishi/guilin/month/201302.html\u0027, \u0027/lishi/guilin/month/201301.html\u0027, \u0027/lishi/guilin/month/201212.html\u0027, \u0027/lishi/guilin/month/201211.html\u0027, \u0027/lishi/guilin/month/201210.html\u0027, \u0027/lishi/guilin/month/201209.html\u0027, \u0027/lishi/guilin/month/201208.html\u0027, \u0027/lishi/guilin/month/201207.html\u0027, \u0027/lishi/guilin/month/201206.html\u0027, \u0027/lishi/guilin/month/201205.html\u0027, \u0027/lishi/guilin/month/201204.html\u0027, \u0027/lishi/guilin/month/201203.html\u0027, \u0027/lishi/guilin/month/201202.html\u0027, \u0027/lishi/guilin/month/201201.html\u0027, \u0027/lishi/guilin/month/201112.html\u0027, \u0027/lishi/guilin/month/201111.html\u0027, \u0027/lishi/guilin/month/201110.html\u0027, \u0027/lishi/guilin/month/201109.html\u0027, \u0027/lishi/guilin/month/201108.html\u0027, \u0027/lishi/guilin/month/201107.html\u0027, \u0027/lishi/guilin/month/201106.html\u0027, \u0027/lishi/guilin/month/201105.html\u0027, \u0027/lishi/guilin/month/201104.html\u0027, \u0027/lishi/guilin/month/201103.html\u0027, \u0027/lishi/guilin/month/201102.html\u0027, \u0027/lishi/guilin/month/201101.html\u0027]\n"
          ],
          "output_type": "stream"
        }
      ],
      "source": [
        "soups \u003d BeautifulSoup(lili.__str__(), \u0027html.parser\u0027, from_encoding\u003d\u0027utf-8\u0027)\n",
        "lili\u003dsoups.find_all(\u0027a\u0027)\n",
        "lis \u003dlist()\n",
        "for y in lili:\n",
        "    lis.append(y.get(\u0027href\u0027))\n",
        "print(lis)\n"
      ],
      "metadata": {
        "collapsed": false,
        "pycharm": {
          "name": "#%%\n",
          "is_executing": false
        }
      }
    },
    {
      "cell_type": "code",
      "execution_count": null,
      "metadata": {
        "collapsed": true,
        "pycharm": {
          "is_executing": true,
          "name": "#%%\n"
        }
      },
      "outputs": [
        {
          "name": "stdout",
          "text": [
            "              0        1            2                    3\n0            日期     天气状况           气温                 风力风向\n1   2019年10月01日    晴  /晴  37℃  /  23℃    北风 1-2级  /北风 1-2级\n2   2019年10月02日    晴  /晴  37℃  /  22℃  东北风 1-2级  /东北风 1-2级\n3   2019年10月03日  多云  /多云  36℃  /  25℃    南风 1-2级  /南风 1-2级\n4   2019年10月04日  多云  /多云  36℃  /  24℃    南风 1-2级  /南风 1-2级\n5   2019年10月05日  多云  /多云  36℃  /  24℃    南风 1-2级  /南风 1-2级\n6   2019年10月06日  多云  /多云  33℃  /  23℃  东北风 1-2级  /东北风 1-2级\n7   2019年10月07日  多云  /多云  31℃  /  21℃  东北风 1-2级  /东北风 1-2级\n8   2019年10月08日  多云  /多云  27℃  /  21℃    北风 1-2级  /北风 1-2级\n9   2019年10月09日  多云  /多云  31℃  /  20℃    南风 1-2级  /南风 1-2级\n10  2019年10月10日  多云  /多云  33℃  /  23℃    南风 1-2级  /南风 1-2级\n11  2019年10月11日   多云  /阴  32℃  /  23℃    南风 1-2级  /南风 1-2级\n12  2019年10月12日  小雨  /小雨  30℃  /  22℃  东北风 1-2级  /东北风 1-2级\n13  2019年10月13日    阴  /阴  27℃  /  21℃  东北风 1-2级  /东北风 1-2级\n14  2019年10月14日  多云  /多云  23℃  /  19℃    北风 1-2级  /北风 1-2级\n15  2019年10月15日   多云  /阴  23℃  /  19℃  东北风 1-2级  /东北风 1-2级\n16  2019年10月16日  小雨  /小雨  23℃  /  16℃  东北风 1-2级  /东北风 1-2级\n17  2019年10月17日   小雨  /阴  19℃  /  15℃    北风 1-2级  /北风 1-2级\n18  2019年10月18日   阴  /多云  23℃  /  15℃  东北风 1-2级  /东北风 1-2级\n19  2019年10月19日  多云  /多云  27℃  /  17℃    北风 1-2级  /北风 1-2级\n20  2019年10月20日    晴  /晴  29℃  /  19℃  东北风 1-2级  /东北风 1-2级\n21  2019年10月21日   多云  /阴  29℃  /  21℃  东北风 1-2级  /东北风 1-2级\n22  2019年10月22日  小雨  /小雨  25℃  /  17℃    南风 1-2级  /南风 1-2级\n23  2019年10月23日  小雨  /多云  19℃  /  16℃    北风 1-2级  /北风 1-2级\n24  2019年10月24日   阴  /小雨  20℃  /  17℃    北风 1-2级  /北风 1-2级\n",
            "              0        1            2                    3\n0            日期     天气状况           气温                 风力风向\n1   2019年09月01日  多云  /多云  35℃  /  26℃  东北风 1-2级  /东北风 1-2级\n2   2019年09月02日  多云  /多云  29℃  /  24℃  东北风 1-2级  /东北风 1-2级\n3   2019年09月03日  多云  /多云  31℃  /  24℃    北风 1-2级  /北风 1-2级\n4   2019年09月04日  多云  /多云  34℃  /  24℃    北风 1-2级  /北风 1-2级\n5   2019年09月05日  多云  /多云  34℃  /  26℃    北风 1-2级  /北风 1-2级\n6   2019年09月06日  多云  /多云  36℃  /  26℃  东北风 3-4级  /东北风 3-4级\n7   2019年09月07日  多云  /多云  37℃  /  26℃  东北风 1-2级  /东北风 1-2级\n8   2019年09月08日  多云  /多云  36℃  /  26℃    南风 1-2级  /南风 1-2级\n9   2019年09月09日  小雨  /阵雨  33℃  /  26℃    南风 1-2级  /南风 1-2级\n10  2019年09月10日  阵雨  /阵雨  34℃  /  26℃    南风 1-2级  /南风 1-2级\n11  2019年09月11日  阵雨  /多云  34℃  /  24℃    北风 1-2级  /北风 1-2级\n12  2019年09月12日  多云  /多云  36℃  /  27℃    北风 1-2级  /北风 1-2级\n13  2019年09月13日  多云  /多云  37℃  /  26℃    南风 1-2级  /南风 1-2级\n14  2019年09月14日  多云  /多云  36℃  /  26℃    北风 1-2级  /北风 1-2级\n15  2019年09月15日  多云  /多云  36℃  /  27℃    北风 1-2级  /北风 1-2级\n16  2019年09月16日  多云  /多云  35℃  /  27℃  东北风 1-2级  /东北风 1-2级\n17  2019年09月17日  多云  /多云  36℃  /  25℃  东北风 1-2级  /东北风 1-2级\n18  2019年09月18日  多云  /多云  32℃  /  24℃    北风 1-2级  /北风 1-2级\n19  2019年09月19日  多云  /多云  33℃  /  22℃  东北风 1-2级  /东北风 1-2级\n20  2019年09月20日  多云  /多云  33℃  /  23℃    北风 1-2级  /北风 1-2级\n21  2019年09月21日   多云  /晴  32℃  /  22℃    北风 1-2级  /北风 1-2级\n22  2019年09月22日   多云  /晴  32℃  /  22℃  东北风 1-2级  /东北风 1-2级\n23  2019年09月23日  多云  /多云  33℃  /  21℃    北风 1-2级  /北风 1-2级\n24  2019年09月24日  多云  /多云  34℃  /  21℃  东北风 1-2级  /东北风 1-2级\n25  2019年09月25日   晴  /多云  32℃  /  26℃  东北风 1-2级  /东北风 1-2级\n26  2019年09月26日  多云  /多云  33℃  /  22℃  东北风 1-2级  /东北风 1-2级\n27  2019年09月27日  多云  /多云  35℃  /  22℃  东北风 1-2级  /东北风 1-2级\n28  2019年09月28日  多云  /多云  36℃  /  21℃    北风 1-2级  /北风 1-2级\n29  2019年09月29日  多云  /多云  37℃  /  22℃  东北风 1-2级  /东北风 1-2级\n30  2019年09月30日    晴  /晴  37℃  /  22℃  东北风 1-2级  /东北风 1-2级\n",
            "              0        1            2                    3\n0            日期     天气状况           气温                 风力风向\n1   2019年08月01日  阵雨  /阵雨  35℃  /  26℃    北风 1-2级  /北风 1-2级\n2   2019年08月02日  阵雨  /阵雨  32℃  /  27℃  东北风 1-2级  /东北风 1-2级\n3   2019年08月03日  多云  /多云  34℃  /  26℃    北风 1-2级  /北风 1-2级\n4   2019年08月04日  多云  /多云  35℃  /  26℃  东北风 1-2级  /东北风 1-2级\n5   2019年08月05日  多云  /多云  35℃  /  26℃  东北风 1-2级  /东北风 1-2级\n6   2019年08月06日  多云  /多云  36℃  /  27℃    北风 1-2级  /北风 1-2级\n7   2019年08月07日  多云  /多云  37℃  /  27℃  东北风 1-2级  /东北风 1-2级\n8   2019年08月08日  多云  /多云  36℃  /  27℃  东北风 1-2级  /东北风 1-2级\n9   2019年08月09日  多云  /多云  37℃  /  28℃    北风 1-2级  /北风 1-2级\n10  2019年08月10日  多云  /阵雨  37℃  /  27℃    北风 1-2级  /北风 1-2级\n11  2019年08月11日  阵雨  /多云  36℃  /  26℃    南风 1-2级  /南风 1-2级\n12  2019年08月12日  多云  /多云  37℃  /  26℃    南风 1-2级  /南风 1-2级\n13  2019年08月13日  多云  /多云  38℃  /  27℃    南风 1-2级  /南风 1-2级\n14  2019年08月14日  阵雨  /阵雨  36℃  /  26℃    北风 1-2级  /北风 1-2级\n15  2019年08月15日  多云  /多云  36℃  /  26℃    北风 1-2级  /北风 1-2级\n16  2019年08月16日  多云  /多云  35℃  /  26℃    南风 1-2级  /南风 1-2级\n17  2019年08月17日  多云  /多云  34℃  /  26℃    南风 1-2级  /南风 1-2级\n18  2019年08月18日  多云  /多云  36℃  /  27℃    南风 1-2级  /南风 1-2级\n19  2019年08月19日  多云  /多云  37℃  /  27℃    南风 1-2级  /南风 1-2级\n20  2019年08月20日  多云  /多云  37℃  /  26℃    南风 1-2级  /南风 1-2级\n21  2019年08月21日  多云  /多云  37℃  /  26℃    南风 1-2级  /南风 1-2级\n22  2019年08月22日  多云  /多云  35℃  /  26℃    北风 1-2级  /北风 1-2级\n23  2019年08月23日  多云  /多云  36℃  /  27℃    南风 1-2级  /南风 1-2级\n24  2019年08月24日  多云  /多云  37℃  /  27℃    北风 1-2级  /北风 1-2级\n25  2019年08月25日  多云  /中雨  38℃  /  27℃    北风 1-2级  /北风 1-2级\n26  2019年08月26日  大雨  /小雨  31℃  /  26℃    北风 3-4级  /北风 3-4级\n27  2019年08月27日  阵雨  /多云  32℃  /  26℃    南风 1-2级  /南风 1-2级\n28  2019年08月28日  多云  /多云  35℃  /  27℃    南风 1-2级  /南风 1-2级\n29  2019年08月29日  多云  /多云  33℃  /  26℃  东北风 3-4级  /东北风 3-4级\n30  2019年08月30日  阵雨  /阵雨  29℃  /  25℃  东北风 1-2级  /东北风 1-2级\n31  2019年08月31日  多云  /多云  30℃  /  26℃    北风 1-2级  /北风 1-2级\n",
            "              0          1            2                  3\n0            日期       天气状况           气温               风力风向\n1   2019年07月01日     多云  /阴  33℃  /  27℃  北风 1-2级  /北风 1-2级\n2   2019年07月02日    多云  /阵雨  34℃  /  28℃  北风 1-2级  /北风 1-2级\n3   2019年07月03日    阵雨  /阵雨  34℃  /  26℃  北风 1-2级  /北风 1-2级\n4   2019年07月04日    阵雨  /中雨  32℃  /  25℃  东风 1-2级  /东风 1-2级\n5   2019年07月05日    阵雨  /中雨  32℃  /  25℃  南风 1-2级  /南风 1-2级\n6   2019年07月06日    中雨  /中雨  30℃  /  25℃  南风 1-2级  /南风 1-2级\n7   2019年07月07日    大雨  /大雨  28℃  /  24℃  南风 1-2级  /南风 1-2级\n8   2019年07月08日    暴雨  /暴雨  29℃  /  24℃  南风 1-2级  /南风 1-2级\n9   2019年07月09日    大雨  /阵雨  26℃  /  21℃  北风 1-2级  /北风 1-2级\n10  2019年07月10日    多云  /多云  29℃  /  22℃  北风 1-2级  /北风 1-2级\n11  2019年07月11日    阵雨  /中雨  28℃  /  21℃  南风 1-2级  /南风 1-2级\n12  2019年07月12日    暴雨  /暴雨  27℃  /  22℃  南风 1-2级  /南风 1-2级\n13  2019年07月13日    暴雨  /暴雨  27℃  /  24℃  南风 1-2级  /南风 1-2级\n14  2019年07月14日    小雨  /小雨  26℃  /  23℃  北风 1-2级  /北风 1-2级\n15  2019年07月15日    阵雨  /阵雨  29℃  /  23℃  南风 1-2级  /南风 1-2级\n16  2019年07月16日    阵雨  /阵雨  34℃  /  24℃  南风 1-2级  /南风 1-2级\n17  2019年07月17日    多云  /多云  35℃  /  26℃  南风 1-2级  /南风 1-2级\n18  2019年07月18日     晴  /阵雨  36℃  /  27℃  北风 1-2级  /北风 1-2级\n19  2019年07月19日    阵雨  /阵雨  35℃  /  27℃  北风 1-2级  /北风 1-2级\n20  2019年07月20日    阵雨  /阵雨  32℃  /  25℃  南风 1-2级  /南风 1-2级\n21  2019年07月21日    阵雨  /阵雨  35℃  /  25℃  南风 1-2级  /南风 1-2级\n22  2019年07月22日    阵雨  /阵雨  33℃  /  25℃  南风 1-2级  /南风 1-2级\n23  2019年07月23日  雷阵雨  /雷阵雨  35℃  /  24℃  南风 1-2级  /南风 1-2级\n24  2019年07月24日    多云  /多云  33℃  /  24℃  南风 1-2级  /南风 1-2级\n25  2019年07月25日    多云  /多云  34℃  /  27℃  南风 1-2级  /南风 1-2级\n26  2019年07月26日    多云  /多云  35℃  /  27℃  南风 1-2级  /南风 1-2级\n27  2019年07月27日    多云  /多云  36℃  /  26℃  南风 1-2级  /南风 1-2级\n28  2019年07月28日    多云  /多云  34℃  /  26℃  南风 1-2级  /南风 1-2级\n29  2019年07月29日    多云  /多云  34℃  /  27℃  南风 1-2级  /南风 1-2级\n30  2019年07月30日    多云  /多云  35℃  /  27℃  南风 1-2级  /南风 1-2级\n31  2019年07月31日    多云  /阵雨  36℃  /  26℃  北风 1-2级  /北风 1-2级\n",
            "              0        1            2                  3\n0            日期     天气状况           气温               风力风向\n1   2019年06月01日  中雨  /阵雨  26℃  /  21℃  北风 1-2级  /北风 1-2级\n2   2019年06月02日  多云  /多云  31℃  /  23℃  南风 1-2级  /南风 1-2级\n3   2019年06月03日  多云  /多云  33℃  /  23℃  南风 1-2级  /南风 1-2级\n4   2019年06月04日  多云  /中雨  33℃  /  24℃  南风 1-2级  /南风 1-2级\n5   2019年06月05日  中雨  /中雨  30℃  /  25℃  南风 1-2级  /南风 1-2级\n6   2019年06月06日  中雨  /中雨  30℃  /  24℃  南风 1-2级  /南风 1-2级\n7   2019年06月07日  中雨  /阵雨  30℃  /  25℃  南风 1-2级  /南风 1-2级\n8   2019年06月08日  中雨  /大雨  31℃  /  25℃  南风 1-2级  /南风 1-2级\n9   2019年06月09日  暴雨  /暴雨  29℃  /  24℃  南风 1-2级  /南风 1-2级\n10  2019年06月10日  中雨  /小雨  29℃  /  22℃  北风 1-2级  /北风 1-2级\n11  2019年06月11日  阵雨  /阵雨  31℃  /  24℃  南风 1-2级  /南风 1-2级\n12  2019年06月12日  暴雨  /暴雨  28℃  /  23℃  北风 1-2级  /北风 1-2级\n13  2019年06月13日  多云  /多云  29℃  /  24℃  北风 1-2级  /北风 1-2级\n14  2019年06月14日  多云  /多云  33℃  /  23℃  北风 1-2级  /北风 1-2级\n15  2019年06月15日  多云  /阵雨  33℃  /  23℃  南风 1-2级  /南风 1-2级\n16  2019年06月16日  阵雨  /中雨  29℃  /  24℃  南风 1-2级  /南风 1-2级\n17  2019年06月17日  阵雨  /阵雨  30℃  /  24℃  南风 1-2级  /南风 1-2级\n18  2019年06月18日  阵雨  /阵雨  32℃  /  25℃  南风 1-2级  /南风 1-2级\n19  2019年06月19日  阵雨  /多云  34℃  /  26℃  南风 1-2级  /南风 1-2级\n20  2019年06月20日  多云  /阵雨  34℃  /  26℃  南风 1-2级  /南风 1-2级\n21  2019年06月21日  中雨  /暴雨  33℃  /  27℃  南风 1-2级  /南风 1-2级\n22  2019年06月22日  暴雨  /暴雨  31℃  /  24℃  南风 1-2级  /南风 1-2级\n23  2019年06月23日  中雨  /中雨  26℃  /  23℃  北风 1-2级  /北风 1-2级\n24  2019年06月24日    阴  /阴  31℃  /  23℃  北风 1-2级  /北风 1-2级\n25  2019年06月25日  阵雨  /阵雨  32℃  /  23℃  北风 1-2级  /北风 1-2级\n26  2019年06月26日  阵雨  /阵雨  30℃  /  25℃  南风 1-2级  /南风 1-2级\n27  2019年06月27日  阵雨  /阵雨  32℃  /  24℃  南风 1-2级  /南风 1-2级\n28  2019年06月28日  阵雨  /阵雨  34℃  /  25℃  南风 1-2级  /南风 1-2级\n29  2019年06月29日  阵雨  /大雨  33℃  /  26℃  南风 1-2级  /南风 1-2级\n30  2019年06月30日  中雨  /阵雨  33℃  /  26℃  南风 1-2级  /南风 1-2级\n"
          ],
          "output_type": "stream"
        }
      ],
      "source": [
        "import pandas as pd\n",
        "for tt in lis:\n",
        "    url \u003d\u0027http://www.tianqihoubao.com\u0027+tt\n",
        "    a\u003dr.get(url)\n",
        "    tb \u003d pd.read_html(a.text)[0]\n",
        "    print(tb)\n"
      ]
    }
  ],
  "metadata": {
    "kernelspec": {
      "display_name": "Python 3",
      "language": "python",
      "name": "python3"
    },
    "language_info": {
      "codemirror_mode": {
        "name": "ipython",
        "version": 2
      },
      "file_extension": ".py",
      "mimetype": "text/x-python",
      "name": "python",
      "nbconvert_exporter": "python",
      "pygments_lexer": "ipython2",
      "version": "2.7.6"
    },
    "pycharm": {
      "stem_cell": {
        "cell_type": "raw",
        "source": [],
        "metadata": {
          "collapsed": false
        }
      }
    }
  },
  "nbformat": 4,
  "nbformat_minor": 0
}